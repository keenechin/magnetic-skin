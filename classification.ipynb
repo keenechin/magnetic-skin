{
 "cells": [
  {
   "cell_type": "code",
   "execution_count": 1,
   "metadata": {},
   "outputs": [],
   "source": [
    "import numpy as np\n",
    "import pandas as pd\n",
    "import os\n",
    "import sys\n",
    "if sys.version_info[0] < 3: \n",
    "    import StringIO\n",
    "else:\n",
    "    from io import StringIO\n"
   ]
  },
  {
   "cell_type": "code",
   "execution_count": 2,
   "metadata": {},
   "outputs": [],
   "source": [
    "import numpy as np\n",
    "import pandas as pd\n",
    "import os\n",
    "import sys\n",
    "if sys.version_info[0] < 3: \n",
    "    import StringIO\n",
    "else:\n",
    "    from io import StringIO\n"
   ]
  },
  {
   "cell_type": "code",
   "execution_count": 3,
   "metadata": {},
   "outputs": [],
   "source": [
    "def getFilenames(dirname = \"../data\"):\n",
    "    filenames = []\n",
    "    for file in os.listdir(dirname):\n",
    "        if file.endswith(\".txt\"):\n",
    "            filenames.append(os.path.join(dirname,file))\n",
    "    return filenames\n",
    "\n",
    "filenames = getFilenames()\n"
   ]
  },
  {
   "cell_type": "code",
   "execution_count": 4,
   "metadata": {},
   "outputs": [],
   "source": [
    "frames = []\n",
    "labels = ['test_num', 'location', 'x', 'y', 'z', 't', 'weight']\n",
    "test_num_offset = 0\n",
    "for name in filenames:\n",
    "    file = open(name,'r')\n",
    "    data = file.readlines()\n",
    "    data = data[3:]\n",
    "    test = []\n",
    "    lastnum = 0\n",
    "    tests = []\n",
    "    for datum in data:\n",
    "        datum = datum.replace(\"[\",\"\")\n",
    "        datum = datum.replace(\"]\",\"\")\n",
    "        datum = datum.replace(\"\\n\",\"\")\n",
    "        datum = [float(field) for field in datum.split(\", \")]\n",
    "        testnum = datum[0]\n",
    "        datum[0] = int(datum[0]) + test_num_offset\n",
    "\n",
    "        if testnum != lastnum:\n",
    "            tests.append(test)\n",
    "            test = []\n",
    "            lastnum = testnum\n",
    "        test.append(tuple(datum))\n",
    "    tests.append(test)\n",
    "    for test in tests:\n",
    "        frame = pd.DataFrame.from_records(test,columns=labels)\n",
    "        frames.append(frame)\n",
    "    test_num_offset = testnum\n",
    "\n",
    "dataset = pd.concat(frames)\n",
    "dataset.test_num = dataset.test_num.astype(int)\n",
    "\n",
    "tests = np.unique(dataset['test_num'])\n",
    "y = np.zeros(len(tests))\n",
    "for num in tests:\n",
    "    y[num] = dataset[dataset['test_num']==num]['location'].iloc[0]\n",
    "\n"
   ]
  },
  {
   "cell_type": "code",
   "execution_count": 5,
   "metadata": {},
   "outputs": [],
   "source": [
    "np.save('../data/y.npy',y)\n",
    "np.save('../data/dataset.npy',np.array(dataset))\n",
    "\n",
    "\n"
   ]
  },
  {
   "cell_type": "code",
   "execution_count": 6,
   "metadata": {},
   "outputs": [],
   "source": [
    "import numpy as np\n",
    "import pandas as pd\n",
    "from tsfresh import extract_relevant_features\n",
    "from tsfresh.feature_extraction import MinimalFCParameters\n",
    "import matplotlib.pyplot as plt\n",
    "\n"
   ]
  },
  {
   "cell_type": "code",
   "execution_count": 7,
   "metadata": {},
   "outputs": [],
   "source": [
    "data=np.load('../data/dataset.npy')\n",
    "labels = ['test_num', 'location', 'x', 'y', 'z', 't', 'weight']\n",
    "dataset = pd.DataFrame({ labels[0]:data[:,0].astype(int) , labels[1]:data[:,1] , labels[2]:data[:,2], \\\n",
    "labels[3]:data[:,3] , labels[4]:data[:,4] , labels[5]:data[:,5] , labels[6]:data[:,6]})\n",
    "y = np.load('../data/y.npy')\n",
    "y = pd.Series(y.astype(int))\n"
   ]
  },
  {
   "cell_type": "code",
   "execution_count": 8,
   "metadata": {},
   "outputs": [],
   "source": [
    "def getTest(dataset,num):\n",
    "    return dataset[dataset['test_num']==num]\n"
   ]
  },
  {
   "cell_type": "code",
   "execution_count": 9,
   "metadata": {},
   "outputs": [
    {
     "name": "stderr",
     "output_type": "stream",
     "text": [
      "Feature Extraction: 100%|██████████| 20/20 [00:00<00:00, 29.65it/s]\n",
      "WARNING:tsfresh.feature_selection.relevance:Infered classification as machine learning task\n"
     ]
    }
   ],
   "source": [
    "\n",
    "features =  extract_relevant_features(dataset, y, column_id='test_num', column_sort='t', default_fc_parameters=MinimalFCParameters())\n",
    "features.to_pickle('../data/features.pkl')"
   ]
  },
  {
   "cell_type": "code",
   "execution_count": 10,
   "metadata": {},
   "outputs": [],
   "source": [
    "from sklearn.ensemble import RandomForestClassifier\n",
    "from sklearn.neural_network import MLPClassifier\n",
    "from sklearn.neighbors import KNeighborsClassifier\n",
    "from sklearn.model_selection import ShuffleSplit\n",
    "from sklearn.metrics import confusion_matrix\n",
    "import pandas as pd\n",
    "import numpy as np\n"
   ]
  },
  {
   "cell_type": "code",
   "execution_count": 11,
   "metadata": {},
   "outputs": [],
   "source": [
    "X = pd.read_pickle('../data/features.pkl')\n",
    "y = np.load('../data/y.npy')\n",
    "y = pd.Series(y.astype(int))\n",
    "N = len(X)\n",
    "\n",
    "rs = ShuffleSplit(n_splits=5, test_size=.25, random_state=8)\n",
    "for tr,tst in rs.split(X):\n",
    "    train_x = np.array(X)[tr]\n",
    "    train_y = np.array(y)[tr]\n",
    "    test_x = np.array(X)[tst]\n",
    "    test_y = np.array(y)[tst]"
   ]
  },
  {
   "cell_type": "code",
   "execution_count": 12,
   "metadata": {},
   "outputs": [],
   "source": [
    "def evalModel(model,train_x,train_y,test_x,test_y):\n",
    "    y_hat = model.predict(test_x)\n",
    "    print('Predicted classes: {0}'.format(np.unique(y_hat)))\n",
    "    print('Training score: {0}'.format(model.score(train_x,train_y)))\n",
    "    print('Test score: {0}'.format(model.score(test_x,test_y)))\n",
    "    plt.matshow(confusion_matrix(test_y,y_hat))"
   ]
  },
  {
   "cell_type": "code",
   "execution_count": 13,
   "metadata": {},
   "outputs": [
    {
     "data": {
      "text/plain": [
       "RandomForestClassifier(bootstrap=True, class_weight=None, criterion='gini',\n",
       "            max_depth=None, max_features='auto', max_leaf_nodes=None,\n",
       "            min_impurity_decrease=0.0, min_impurity_split=None,\n",
       "            min_samples_leaf=1, min_samples_split=2,\n",
       "            min_weight_fraction_leaf=0.0, n_estimators=100, n_jobs=None,\n",
       "            oob_score=False, random_state=None, verbose=0,\n",
       "            warm_start=False)"
      ]
     },
     "execution_count": 13,
     "metadata": {},
     "output_type": "execute_result"
    }
   ],
   "source": [
    "forest = RandomForestClassifier(n_estimators=100)\n",
    "forest.fit(train_x,train_y)"
   ]
  },
  {
   "cell_type": "code",
   "execution_count": 14,
   "metadata": {},
   "outputs": [
    {
     "name": "stdout",
     "output_type": "stream",
     "text": [
      "Predicted classes: [ 0  1  2  3  4  5  6  7  8  9 10 11 12 13 14 15 16 17 18 19 20 21 22 23\n",
      " 24]\n",
      "Training score: 1.0\n",
      "Test score: 0.584\n"
     ]
    },
    {
     "data": {
      "image/png": "[encoded data removed]",
      "text/plain": [
       "<Figure size 288x288 with 1 Axes>"
      ]
     },
     "metadata": {
      "needs_background": "light"
     },
     "output_type": "display_data"
    }
   ],
   "source": [
    "knn = KNeighborsClassifier(n_neighbors=1)\n",
    "knn.fit(train_x,train_y)\n",
    "evalModel(knn,train_x,train_y,test_x,test_y)\n"
   ]
  },
  {
   "cell_type": "code",
   "execution_count": 15,
   "metadata": {},
   "outputs": [
    {
     "name": "stdout",
     "output_type": "stream",
     "text": [
      "Predicted classes: [ 2  6  7  9 10 12 13 14 15 16 19 21 22 23]\n",
      "Training score: 0.07610146862483311\n",
      "Test score: 0.084\n"
     ]
    },
    {
     "data": {
      "image/png": "[encoded data removed]",
      "text/plain": [
       "<Figure size 288x288 with 1 Axes>"
      ]
     },
     "metadata": {
      "needs_background": "light"
     },
     "output_type": "display_data"
    }
   ],
   "source": [
    "mlp = MLPClassifier(solver = 'adam', hidden_layer_sizes=(38,38),max_iter=int(1e4),random_state=8)\n",
    "mlp.fit(train_x,train_y)\n",
    "evalModel(mlp,train_x,train_y,test_x,test_y)\n"
   ]
  },
  {
   "cell_type": "code",
   "execution_count": null,
   "metadata": {},
   "outputs": [],
   "source": []
  }
 ],
 "metadata": {
  "file_extension": ".py",
  "kernelspec": {
   "display_name": "Python 3",
   "language": "python",
   "name": "python3"
  },
  "language_info": {
   "codemirror_mode": {
    "name": "ipython",
    "version": 3
   },
   "file_extension": ".py",
   "mimetype": "text/x-python",
   "name": "python",
   "nbconvert_exporter": "python",
   "pygments_lexer": "ipython3",
   "version": "3.7.1"
  },
  "mimetype": "text/x-python",
  "name": "python",
  "npconvert_exporter": "python",
  "pygments_lexer": "ipython3",
  "version": 3
 },
 "nbformat": 4,
 "nbformat_minor": 2
}
